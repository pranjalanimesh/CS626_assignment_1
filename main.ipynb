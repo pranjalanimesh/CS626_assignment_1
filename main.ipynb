{
 "cells": [
  {
   "cell_type": "code",
   "execution_count": 1,
   "metadata": {},
   "outputs": [
    {
     "name": "stderr",
     "output_type": "stream",
     "text": [
      "[nltk_data] Downloading package brown to\n",
      "[nltk_data]     C:\\Users\\ROG\\AppData\\Roaming\\nltk_data...\n",
      "[nltk_data]   Package brown is already up-to-date!\n",
      "[nltk_data] Downloading package universal_tagset to\n",
      "[nltk_data]     C:\\Users\\ROG\\AppData\\Roaming\\nltk_data...\n",
      "[nltk_data]   Package universal_tagset is already up-to-date!\n"
     ]
    },
    {
     "data": {
      "text/plain": [
       "True"
      ]
     },
     "execution_count": 1,
     "metadata": {},
     "output_type": "execute_result"
    }
   ],
   "source": [
    "import nltk\n",
    "from nltk.corpus import brown\n",
    "from sklearn.model_selection import KFold\n",
    "from sklearn.metrics import confusion_matrix, accuracy_score, precision_recall_fscore_support\n",
    "\n",
    "import numpy as np\n",
    "from collections import defaultdict\n",
    "from tqdm import tqdm\n",
    "\n",
    "# Download required NLTK data\n",
    "nltk.download('brown')\n",
    "nltk.download('universal_tagset')\n"
   ]
  },
  {
   "cell_type": "code",
   "execution_count": 2,
   "metadata": {},
   "outputs": [],
   "source": [
    "# Get all sentences from the Brown corpus with universal tagset\n",
    "tagged_sents = brown.tagged_sents(tagset='universal')\n",
    "\n",
    "# Count occurrences of each tag\n",
    "tag_counts = [tag for sent in tagged_sents for _, tag in sent]\n"
   ]
  },
  {
   "cell_type": "code",
   "execution_count": 3,
   "metadata": {},
   "outputs": [
    {
     "data": {
      "text/plain": [
       "{'.',\n",
       " 'ADJ',\n",
       " 'ADP',\n",
       " 'ADV',\n",
       " 'CONJ',\n",
       " 'DET',\n",
       " 'NOUN',\n",
       " 'NUM',\n",
       " 'PRON',\n",
       " 'PRT',\n",
       " 'VERB',\n",
       " 'X'}"
      ]
     },
     "execution_count": 3,
     "metadata": {},
     "output_type": "execute_result"
    }
   ],
   "source": [
    "set(tag_counts)"
   ]
  },
  {
   "cell_type": "code",
   "execution_count": 4,
   "metadata": {},
   "outputs": [],
   "source": [
    "# Readme\n",
    "# HMMTagger class: Implements the core HMM algorithm, including training and the Viterbi algorithm for decoding.\n",
    "# prepare_data(): Prepares the Brown corpus data.\n",
    "# evaluate_tagger(): Evaluates the tagger on test data.\n",
    "# cross_validate(): Performs 5-fold cross-validation.\n",
    "# main(): Orchestrates the entire process and prints the results."
   ]
  },
  {
   "cell_type": "code",
   "execution_count": 101,
   "metadata": {},
   "outputs": [],
   "source": [
    "class HMMTagger:\n",
    "    def __init__(self):\n",
    "        self.tag_counts = defaultdict(int)\n",
    "        self.transition_counts = defaultdict(lambda: defaultdict(int))\n",
    "        self.emission_counts = defaultdict(lambda: defaultdict(int))\n",
    "        self.vocab = set()\n",
    "\n",
    "    def train(self, tagged_sentences):\n",
    "        for sentence in tagged_sentences:\n",
    "            prev_tag = '<START>'\n",
    "            for word, tag in sentence:\n",
    "                self.tag_counts[tag] += 1\n",
    "                self.transition_counts[prev_tag][tag] += 1\n",
    "                self.emission_counts[tag][word] += 1\n",
    "                self.vocab.add(word)\n",
    "                prev_tag = tag\n",
    "\n",
    "        # After training, calculate unknown token emission for each tag\n",
    "        for tag in self.tag_counts:\n",
    "            self.emission_counts[tag]['<UNK>'] = 1  # A small probability for unseen words (can be tuned)\n",
    "\n",
    "    def viterbi(self, sentence):\n",
    "        V = [{}]\n",
    "        path = {}\n",
    "        \n",
    "        # Initialize base cases (t == 0)\n",
    "        for tag in self.tag_counts:\n",
    "            # Use the 'UNKNOWN' token if the word is not in the emission counts\n",
    "            first_word_emission_prob = self.emission_counts[tag].get(sentence[0], self.emission_counts[tag].get('<UNK>', 0))\n",
    "            V[0][tag] = self.transition_counts['<START>'].get(tag, 0) * first_word_emission_prob\n",
    "            path[tag] = [tag]\n",
    "        \n",
    "        # Run Viterbi for t > 0\n",
    "        for t in range(1, len(sentence)):\n",
    "            V.append({})\n",
    "            newpath = {}\n",
    "            for tag in self.tag_counts:\n",
    "                (prob, state) = max((V[t-1][prev_tag] * \n",
    "                                     self.transition_counts[prev_tag].get(tag, 0) * \n",
    "                                     self.emission_counts[tag].get(sentence[t], self.emission_counts[tag].get('<UNK>', 0)), prev_tag) \n",
    "                                    for prev_tag in self.tag_counts)\n",
    "                V[t][tag] = prob\n",
    "                newpath[tag] = path[state] + [tag]\n",
    "            path = newpath\n",
    "        \n",
    "        # Find the highest probability in the final state\n",
    "        (prob, state) = max((V[len(sentence) - 1][tag], tag) for tag in self.tag_counts)\n",
    "        return path[state]\n",
    "\n",
    "    def tag(self, sentence):\n",
    "        # Replace unknown words with the '<UNK>' token\n",
    "        processed_sentence = [word if word in self.vocab else '<UNK>' for word in sentence]\n",
    "        \n",
    "        # Run Viterbi algorithm on the processed sentence\n",
    "        return self.viterbi(processed_sentence)\n",
    "\n",
    "\n",
    "def prepare_data():\n",
    "    tagged_sents = brown.tagged_sents(tagset='universal')\n",
    "    print(f\"Number of tagged sentences is {len(tagged_sents)}\")\n",
    "    return [([(word.lower(), tag) for word, tag in sent]) for sent in tagged_sents]\n",
    "\n",
    "def evaluate_tagger(tagger, test_data):\n",
    "    true_tags = []\n",
    "    pred_tags = []\n",
    "    for sentence in test_data:\n",
    "        words = [word for word, _ in sentence]\n",
    "        true = [tag for _, tag in sentence]\n",
    "        # print('words')\n",
    "        # print(words)\n",
    "        pred = tagger.tag(words)\n",
    "        # print('pred')\n",
    "        # print(pred)\n",
    "        true_tags.extend(true)\n",
    "        pred_tags.extend(pred)\n",
    "    return true_tags, pred_tags\n",
    "\n",
    "def cross_validate(data, n_splits=5):\n",
    "    kf = KFold(n_splits=n_splits, shuffle=True, random_state=42)\n",
    "    accuracies = []\n",
    "    all_true_tags = []\n",
    "    all_pred_tags = []\n",
    "\n",
    "    progress = 0\n",
    "    for train_index, test_index in kf.split(data):\n",
    "        train_data = [data[i] for i in train_index]\n",
    "        test_data = [data[i] for i in test_index]\n",
    "\n",
    "        tagger = HMMTagger()\n",
    "        tagger.train(train_data)\n",
    "\n",
    "        true_tags, pred_tags = evaluate_tagger(tagger, test_data)\n",
    "        accuracies.append(accuracy_score(true_tags, pred_tags))\n",
    "        all_true_tags.extend(true_tags)\n",
    "        all_pred_tags.extend(pred_tags)\n",
    "\n",
    "        progress += 1\n",
    "        print(f\"Progress: {progress}\")\n",
    "\n",
    "    return accuracies, all_true_tags, all_pred_tags\n",
    "\n"
   ]
  },
  {
   "cell_type": "markdown",
   "metadata": {},
   "source": [
    "# Main code"
   ]
  },
  {
   "cell_type": "code",
   "execution_count": 102,
   "metadata": {},
   "outputs": [
    {
     "name": "stdout",
     "output_type": "stream",
     "text": [
      "Preparing data\n",
      "Number of tagged sentences is 57340\n",
      "Data prepared\n"
     ]
    }
   ],
   "source": [
    "print(\"Preparing data\")\n",
    "data = prepare_data()\n",
    "print(\"Data prepared\")\n"
   ]
  },
  {
   "cell_type": "code",
   "execution_count": 114,
   "metadata": {},
   "outputs": [
    {
     "name": "stdout",
     "output_type": "stream",
     "text": [
      "Cross-validating\n",
      "Progress: 1\n",
      "Progress: 2\n",
      "Progress: 3\n",
      "Progress: 4\n",
      "Progress: 5\n",
      "Cross-validation done\n"
     ]
    }
   ],
   "source": [
    "print(\"Cross-validating\")\n",
    "accuracies, true_tags, pred_tags = cross_validate(data)\n",
    "print(\"Cross-validation done\")"
   ]
  },
  {
   "cell_type": "code",
   "execution_count": null,
   "metadata": {},
   "outputs": [],
   "source": []
  },
  {
   "cell_type": "code",
   "execution_count": null,
   "metadata": {},
   "outputs": [
    {
     "name": "stdout",
     "output_type": "stream",
     "text": [
      "Average Accuracy: 0.7090\n",
      "Standard Deviation: 0.0059\n",
      "Confusion Matrix:\n",
      "[[104836      0      0      0      0      0      0      0      0      0\n",
      "       0  42729]\n",
      " [     0  53049     63   1196      0      0   5013      2      0     11\n",
      "     599  23788]\n",
      " [    13     34 107107    267     69    205    110      0      6    300\n",
      "     151  36504]\n",
      " [     0   2539   2337  37721     32    320   1389      0      0    252\n",
      "     203  11446]\n",
      " [     0      0    133    130  26401    122      5      0      0      0\n",
      "       0  11360]\n",
      " [     0      0    737     12     12 102102     24      0    295      0\n",
      "       0  33837]\n",
      " [     0    407     18     39      1     74 194199      1      3     15\n",
      "    1268  79533]\n",
      " [     0      3      7      0      0      0   2423   8096      0      0\n",
      "       0   4345]\n",
      " [     0      0   1197      2      0   1015     57      0  39005     19\n",
      "       0   8039]\n",
      " [     0    202   9488    565      0      1    376      0     11  13365\n",
      "      57   5764]\n",
      " [     0    204     85     41      0      0   7937      0      0      1\n",
      "  136141  38341]\n",
      " [     7      6     12      3      3     13    131      1      4      1\n",
      "      23   1182]]\n",
      "\n",
      "Per-POS Accuracy:\n",
      ".: 0.7104\n",
      "ADJ: 0.6336\n",
      "ADP: 0.7399\n",
      "ADV: 0.6707\n",
      "CONJ: 0.6920\n",
      "DET: 0.7452\n",
      "NOUN: 0.7047\n",
      "NUM: 0.5443\n",
      "PRON: 0.7906\n",
      "PRT: 0.4481\n",
      "VERB: 0.7450\n",
      "X: 0.8528\n"
     ]
    }
   ],
   "source": [
    "print(f\"Average Accuracy: {np.mean(accuracies):.4f}\")\n",
    "print(f\"Standard Deviation: {np.std(accuracies):.4f}\")\n",
    "\n",
    "cm = confusion_matrix(true_tags, pred_tags)\n",
    "print(\"Confusion Matrix:\")\n",
    "print(cm)\n",
    "\n",
    "unique_tags = sorted(set(true_tags))\n",
    "per_pos_accuracy = {}\n",
    "for i, tag in enumerate(unique_tags):\n",
    "    true_pos = cm[i, i]\n",
    "    total = np.sum(cm[i, :])\n",
    "    per_pos_accuracy[tag] = true_pos / total\n",
    "\n",
    "print(\"\\nPer-POS Accuracy:\")\n",
    "for tag, acc in per_pos_accuracy.items():\n",
    "    print(f\"{tag}: {acc:.4f}\")\n"
   ]
  },
  {
   "cell_type": "code",
   "execution_count": null,
   "metadata": {},
   "outputs": [],
   "source": [
    "def calculate_metrics(true_tags, pred_tags):\n",
    "    unique_tags = sorted(set(true_tags))\n",
    "    \n",
    "    # Calculate precision, recall, and F1 score for each tag\n",
    "    precision, recall, f1, _ = precision_recall_fscore_support(true_tags, pred_tags, labels=unique_tags, average=None)\n",
    "    \n",
    "    # Calculate macro-averaged F1 score\n",
    "    macro_f1 = np.mean(f1)\n",
    "    \n",
    "\n",
    "    \n",
    "    return unique_tags, precision, recall, f1, macro_f1"
   ]
  },
  {
   "cell_type": "code",
   "execution_count": null,
   "metadata": {},
   "outputs": [],
   "source": [
    "unique_tags, precision, recall, f1, macro_f1 = calculate_metrics(true_tags, pred_tags)"
   ]
  },
  {
   "cell_type": "code",
   "execution_count": null,
   "metadata": {},
   "outputs": [],
   "source": [
    "f0_5 = []\n",
    "f2 = []\n",
    "\n",
    "for i in range(len(unique_tags)):\n",
    "    f0_5.append(1.25 * precision[i] * recall[i] / (0.25 * precision[i] + recall[i]))\n",
    "    f2.append(5 * precision[i] * recall[i] / (4 * precision[i] + recall[i]))\n",
    "\n",
    "f0_5 = np.array(f0_5)\n",
    "f2 = np.array(f2)"
   ]
  },
  {
   "cell_type": "code",
   "execution_count": 111,
   "metadata": {},
   "outputs": [
    {
     "name": "stdout",
     "output_type": "stream",
     "text": [
      "0.8098915761445667 0.7241095014123192 0.6578671614309174\n"
     ]
    }
   ],
   "source": [
    "f05_macro = np.mean(f0_5)\n",
    "f1_macro = np.mean(f1)\n",
    "f2_macro = np.mean(f2)\n",
    "\n",
    "print(f05_macro, f1_macro, f2_macro)"
   ]
  },
  {
   "cell_type": "code",
   "execution_count": 112,
   "metadata": {},
   "outputs": [
    {
     "name": "stdout",
     "output_type": "stream",
     "text": [
      "p_macro 0.883264433638339\n",
      "r_macro 0.6897799776106281\n"
     ]
    }
   ],
   "source": [
    "p_macro = np.mean(precision)\n",
    "r_macro = np.mean(recall)\n",
    "\n",
    "print('p_macro', p_macro)\n",
    "print('r_macro', r_macro)"
   ]
  },
  {
   "cell_type": "code",
   "execution_count": 107,
   "metadata": {},
   "outputs": [
    {
     "data": {
      "image/png": "[encoded data removed]",
      "text/plain": [
       "<Figure size 720x432 with 1 Axes>"
      ]
     },
     "metadata": {
      "needs_background": "light"
     },
     "output_type": "display_data"
    }
   ],
   "source": [
    "import matplotlib.pyplot as plt\n",
    "\n",
    "\n",
    "plt.figure(figsize=(10, 6))\n",
    "plt.gca().set_facecolor('white')\n",
    "plt.scatter(unique_tags, f0_5, label='f0_5', color='g')\n",
    "plt.scatter(unique_tags, f1, label='f1', color='b')\n",
    "plt.scatter(unique_tags, f2, label='f2', color='r', linestyle='--')\n",
    "plt.title('F0.5, F1, and F2 scores for each tag')\n",
    "plt.xlabel('Tags')\n",
    "plt.ylabel('Scores')\n",
    "plt.legend()\n",
    "plt.grid(True)\n",
    "plt.show()\n"
   ]
  },
  {
   "cell_type": "code",
   "execution_count": null,
   "metadata": {},
   "outputs": [
    {
     "data": {
      "image/png": "[encoded data removed]",
      "text/plain": [
       "<Figure size 720x432 with 1 Axes>"
      ]
     },
     "metadata": {
      "needs_background": "light"
     },
     "output_type": "display_data"
    }
   ],
   "source": [
    "plt.figure(figsize=(10, 6))\n",
    "plt.scatter(unique_tags, precision, label='precision', color='r')\n",
    "plt.scatter(unique_tags, recall, label='recall', color='b')\n",
    "plt.title('Precision and recall for each tag')\n",
    "plt.xlabel('Tags')\n",
    "plt.ylabel('Scores')\n",
    "plt.legend()\n",
    "plt.grid(True)\n",
    "plt.show()"
   ]
  },
  {
   "cell_type": "code",
   "execution_count": null,
   "metadata": {},
   "outputs": [
    {
     "data": {
      "image/png": "[encoded data removed]",
      "text/plain": [
       "<Figure size 1296x864 with 2 Axes>"
      ]
     },
     "metadata": {
      "needs_background": "light"
     },
     "output_type": "display_data"
    }
   ],
   "source": [
    "import seaborn as sns\n",
    "\n",
    "plt.figure(figsize=(18, 12))\n",
    "sns.heatmap(cm, annot=True, fmt='d', cmap='coolwarm', xticklabels=unique_tags, yticklabels=unique_tags)\n",
    "\n",
    "plt.title('Seaborn Heatmap for true and predicted tags')\n",
    "plt.xlabel('X Axis')\n",
    "plt.ylabel('Y Axis')\n",
    "\n",
    "plt.xlabel('Predicted Tags')\n",
    "plt.ylabel('True Tags')\n",
    "\n",
    "# Display the heatmap\n",
    "plt.show()"
   ]
  },
  {
   "cell_type": "code",
   "execution_count": 17,
   "metadata": {},
   "outputs": [],
   "source": [
    "# A lot of nouns are getting predicted as X giving false positives for X (the least frequent tag) [less precision]\n",
    "#  and false negatives for NOUN (the most frequent tag) [less recall]."
   ]
  },
  {
   "cell_type": "code",
   "execution_count": 89,
   "metadata": {},
   "outputs": [],
   "source": [
    "tagger = HMMTagger()\n",
    "tagger.train(data)\n"
   ]
  },
  {
   "cell_type": "code",
   "execution_count": 90,
   "metadata": {},
   "outputs": [
    {
     "data": {
      "text/plain": [
       "defaultdict(int,\n",
       "            {'DET': 137019,\n",
       "             'NOUN': 275558,\n",
       "             'ADJ': 83721,\n",
       "             'VERB': 182750,\n",
       "             'ADP': 144766,\n",
       "             '.': 147565,\n",
       "             'ADV': 56239,\n",
       "             'CONJ': 38151,\n",
       "             'PRT': 29829,\n",
       "             'PRON': 49334,\n",
       "             'NUM': 14874,\n",
       "             'X': 1386})"
      ]
     },
     "execution_count": 90,
     "metadata": {},
     "output_type": "execute_result"
    }
   ],
   "source": [
    "# len(tagger.vocab)\n",
    "tagger.tag_counts\n",
    "        # self.tag_counts = defaultdict(int)\n",
    "        # self.transition_counts = defaultdict(lambda: defaultdict(int))\n",
    "        # self.emission_counts = defaultdict(lambda: defaultdict(int))\n",
    "        # self.vocab = set()"
   ]
  },
  {
   "cell_type": "code",
   "execution_count": 91,
   "metadata": {},
   "outputs": [
    {
     "data": {
      "text/plain": [
       "['DET',\n",
       " 'NOUN',\n",
       " 'VERB',\n",
       " 'PRON',\n",
       " 'VERB',\n",
       " 'VERB',\n",
       " 'ADP',\n",
       " 'ADJ',\n",
       " 'ADP',\n",
       " 'NOUN',\n",
       " 'NOUN',\n",
       " 'CONJ',\n",
       " 'NOUN',\n",
       " 'NOUN',\n",
       " '.',\n",
       " 'VERB',\n",
       " 'NOUN',\n",
       " 'CONJ',\n",
       " 'ADJ',\n",
       " 'CONJ',\n",
       " 'ADV',\n",
       " 'ADJ',\n",
       " '.',\n",
       " '.']"
      ]
     },
     "execution_count": 91,
     "metadata": {},
     "output_type": "execute_result"
    }
   ],
   "source": [
    "sent = ['the', 'jury', 'said', 'it', 'did', 'find', 'that', 'many', 'of', \"georgia's\", 'registration', 'and', 'election', 'laws', '``', 'are', 'outmoded', 'or', 'inadequate', 'and', 'often', 'ambiguous', \"''\", '.']\n",
    "# sent = [ (word.lower(), '') for word in sent]\n",
    "tags = tagger.tag(sent)\n",
    "tags"
   ]
  },
  {
   "cell_type": "code",
   "execution_count": 92,
   "metadata": {},
   "outputs": [
    {
     "name": "stdout",
     "output_type": "stream",
     "text": [
      "['the', 'jury', 'said', 'it', 'did', 'find', 'that', 'many', 'of', \"georgia's\", 'registration', 'and', 'election', 'laws', '``', 'are', 'outmoded', 'or', 'inadequate', 'and', 'often', 'ambiguous', \"''\", '.']\n",
      "<class 'list'>\n",
      "['DET', 'NOUN', 'VERB', 'PRON', 'VERB', 'VERB', 'ADP', 'ADJ', 'ADP', 'NOUN', 'NOUN', 'CONJ', 'NOUN', 'NOUN', '.', 'VERB', 'NOUN', 'CONJ', 'ADJ', 'CONJ', 'ADV', 'ADJ', '.', '.']\n",
      "['the', 'jury', 'said', 'it', 'did', 'find', 'that', 'many', 'of', \"georgia's\", 'registration', 'and', 'election', 'laws', '``', 'are', 'outmoded', 'or', 'inadequate', 'and', 'often', 'ambiguous', \"''\", '.']\n",
      "<class 'list'>\n",
      "['DET', 'NOUN', 'VERB', 'PRON', 'VERB', 'VERB', 'ADP', 'ADJ', 'ADP', 'NOUN', 'NOUN', 'CONJ', 'NOUN', 'NOUN', '.', 'VERB', 'ADJ', 'CONJ', 'ADJ', 'CONJ', 'ADV', 'ADJ', '.', '.']\n"
     ]
    }
   ],
   "source": [
    "kf = KFold(n_splits=2, shuffle=True, random_state=42)\n",
    "accuracies = []\n",
    "all_true_tags = []\n",
    "all_pred_tags = []\n",
    "\n",
    "progress = 0\n",
    "for train_index, test_index in kf.split(data):\n",
    "    train_data = [data[i] for i in train_index]\n",
    "    test_data = [data[i] for i in test_index]\n",
    "\n",
    "    tagger.train(data)\n",
    "\n",
    "    for sentence in test_data:\n",
    "        words = [word for word, _ in sentence]\n",
    "        true = [tag for _, tag in sentence]\n",
    "\n",
    "        words = sent\n",
    "        print(words)\n",
    "        print(type(words))\n",
    "\n",
    "        print(tagger.tag(words))\n",
    "        break"
   ]
  },
  {
   "cell_type": "code",
   "execution_count": 93,
   "metadata": {},
   "outputs": [],
   "source": [
    "tagger.train(data)"
   ]
  },
  {
   "cell_type": "code",
   "execution_count": 100,
   "metadata": {},
   "outputs": [
    {
     "data": {
      "text/plain": [
       "['DET', 'NOUN', 'VERB', 'PRON', 'VERB', 'VERB', 'ADP', 'ADJ', 'ADP', 'NOUN']"
      ]
     },
     "execution_count": 100,
     "metadata": {},
     "output_type": "execute_result"
    }
   ],
   "source": [
    "new_sentence = ['the', '', 'said', 'it', 'did', 'find', 'that', 'many', 'of', \"georgia's\"]\n",
    "tagger.tag(new_sentence)"
   ]
  },
  {
   "cell_type": "code",
   "execution_count": 105,
   "metadata": {},
   "outputs": [
    {
     "name": "stdout",
     "output_type": "stream",
     "text": [
      "['The', 'quick', 'brown', 'fox', 'jumps', 'over', 'the', 'lazy', 'dog']\n",
      "9\n",
      "['DET', 'ADJ', 'NOUN', 'NOUN', 'NOUN', 'ADP', 'DET', 'ADJ', 'NOUN']\n",
      "9\n"
     ]
    }
   ],
   "source": [
    "new_sentence = \"The quick brown fox jumps over the lazy dog\".split()\n",
    "print(new_sentence)\n",
    "print(len(new_sentence))\n",
    "tagged = tagger.tag(new_sentence)\n",
    "print(tagged)\n",
    "print(len(tagged))"
   ]
  }
 ],
 "metadata": {
  "kernelspec": {
   "display_name": "Python 3",
   "language": "python",
   "name": "python3"
  },
  "language_info": {
   "codemirror_mode": {
    "name": "ipython",
    "version": 3
   },
   "file_extension": ".py",
   "mimetype": "text/x-python",
   "name": "python",
   "nbconvert_exporter": "python",
   "pygments_lexer": "ipython3",
   "version": "3.10.2"
  }
 },
 "nbformat": 4,
 "nbformat_minor": 2
}
